{
 "cells": [
  {
   "cell_type": "code",
   "execution_count": 52,
   "metadata": {},
   "outputs": [],
   "source": [
    "import tensorflow as tf\n",
    "from tensorflow.keras.preprocessing.image import ImageDataGenerator\n"
   ]
  },
  {
   "cell_type": "code",
   "execution_count": 53,
   "metadata": {},
   "outputs": [
    {
     "name": "stdout",
     "output_type": "stream",
     "text": [
      "The autoreload extension is already loaded. To reload it, use:\n",
      "  %reload_ext autoreload\n"
     ]
    }
   ],
   "source": [
    "%load_ext autoreload\n",
    "%autoreload 2"
   ]
  },
  {
   "cell_type": "code",
   "execution_count": 54,
   "metadata": {},
   "outputs": [],
   "source": [
    "# Set the path to your dataset\n",
    "dataset_path = '/Users/macbook/code/Soumiabenhamou90/Brain-Tumor-Detection/raw_data/Brain Tumor labeled dataset'"
   ]
  },
  {
   "cell_type": "code",
   "execution_count": 56,
   "metadata": {},
   "outputs": [],
   "source": [
    "from brainTumorDetection.ml_logic.test import who_am_i"
   ]
  },
  {
   "cell_type": "code",
   "execution_count": 57,
   "metadata": {},
   "outputs": [
    {
     "name": "stdout",
     "output_type": "stream",
     "text": [
      "Hello my name is soumia\n"
     ]
    }
   ],
   "source": [
    "who_am_i()"
   ]
  },
  {
   "cell_type": "markdown",
   "metadata": {},
   "source": [
    "## Split la Data "
   ]
  },
  {
   "cell_type": "code",
   "execution_count": 64,
   "metadata": {},
   "outputs": [],
   "source": [
    "from tensorflow.keras.preprocessing.image import ImageDataGenerator"
   ]
  },
  {
   "cell_type": "code",
   "execution_count": 80,
   "metadata": {},
   "outputs": [
    {
     "name": "stdout",
     "output_type": "stream",
     "text": [
      "Found 435 images belonging to 4 classes.\n",
      "Found 1740 images belonging to 4 classes.\n"
     ]
    }
   ],
   "source": [
    "\n",
    "\n",
    "# Configuration de l'ImageDataGenerator\n",
    "datagen = ImageDataGenerator(\n",
    "     rescale=1./255,  # Normaliser les pixels entre 0 et 1\n",
    "    rotation_range=20,  # Rotation aléatoire entre -20 et +20 degrés\n",
    "    width_shift_range=0.2,  # Décalage horizontal jusqu'à 20%\n",
    "    height_shift_range=0.2,  # Décalage vertical jusqu'à 20%\n",
    "    shear_range=0.2,  # Cisaillement aléatoire jusqu'à 20%\n",
    "    zoom_range=0.2,  # Zoom aléatoire jusqu'à 20%\n",
    "    horizontal_flip=True,  # Retourner horizontalement\n",
    "    fill_mode='nearest',  # Remplissage avec les pixels les plus proches\n",
    "    validation_split=0.2  # 20% des données pour le test\n",
    ")\n",
    "\n",
    "\n",
    "\n",
    "# Charger les images pour l'ensemble de test (20%)\n",
    "test_generator = datagen.flow_from_directory(\n",
    "    '/Users/macbook/code/Soumiabenhamou90/Brain-Tumor-Detection/raw_data/Brain Tumor labeled dataset',\n",
    "    target_size=(225, 225),  # Redimensionnement\n",
    "    batch_size=32,\n",
    "    class_mode='categorical',\n",
    "    subset='validation'  # Prend 20% des données pour le test\n",
    ")\n",
    "# Charger les images pour l'ensemble d'entraînement (80%)\n",
    "train_generator = datagen.flow_from_directory(\n",
    "    '/Users/macbook/code/Soumiabenhamou90/Brain-Tumor-Detection/raw_data/Brain Tumor labeled dataset',\n",
    "    target_size=(225, 225),  # Redimensionnement\n",
    "    batch_size=32,\n",
    "    class_mode='categorical',## 'categorical' pour plus de 2 classes\n",
    "    subset='training'  # Prend 80% des données pour l'entraînement\n",
    ")"
   ]
  },
  {
   "cell_type": "code",
   "execution_count": null,
   "metadata": {},
   "outputs": [],
   "source": []
  }
 ],
 "metadata": {
  "kernelspec": {
   "display_name": "Brain-Tumor-Detection",
   "language": "python",
   "name": "python3"
  },
  "language_info": {
   "codemirror_mode": {
    "name": "ipython",
    "version": 3
   },
   "file_extension": ".py",
   "mimetype": "text/x-python",
   "name": "python",
   "nbconvert_exporter": "python",
   "pygments_lexer": "ipython3",
   "version": "3.10.6"
  }
 },
 "nbformat": 4,
 "nbformat_minor": 2
}
